{
 "cells": [
  {
   "cell_type": "code",
   "execution_count": 33,
   "id": "bb12202f-d4dd-41d5-b8bd-f4c78b69b0f9",
   "metadata": {
    "tags": []
   },
   "outputs": [
    {
     "data": {
      "text/plain": [
       "0    22.0\n",
       "1    38.0\n",
       "2    26.0\n",
       "3    35.0\n",
       "4    35.0\n",
       "5     NaN\n",
       "6    54.0\n",
       "7     2.0\n",
       "8    27.0\n",
       "9    14.0\n",
       "Name: age, dtype: float64"
      ]
     },
     "execution_count": 33,
     "metadata": {},
     "output_type": "execute_result"
    }
   ],
   "source": [
    "# 라이브러리 불러오기\n",
    "import seaborn as sns\n",
    "\n",
    "# titanic 데이터셋 가져오기\n",
    "df = sns.load_dataset('titanic')\n",
    "\n",
    "# age 열의 첫 10개 데이터 출력 (5 행에 NaN 값)\n",
    "df['age'].head(10)"
   ]
  },
  {
   "cell_type": "code",
   "execution_count": 34,
   "id": "dbcd44b3",
   "metadata": {},
   "outputs": [
    {
     "data": {
      "text/plain": [
       "<Axes: >"
      ]
     },
     "execution_count": 34,
     "metadata": {},
     "output_type": "execute_result"
    },
    {
     "data": {
      "image/png": "[encoded data removed]",
      "text/plain": [
       "<Figure size 640x480 with 1 Axes>"
      ]
     },
     "metadata": {},
     "output_type": "display_data"
    }
   ],
   "source": [
    "# 나이에 대한 hist\n",
    "df['age'].hist()"
   ]
  },
  {
   "cell_type": "code",
   "execution_count": 35,
   "id": "35b28464",
   "metadata": {},
   "outputs": [
    {
     "data": {
      "text/plain": [
       "0      26.507589\n",
       "1      34.611765\n",
       "2      21.750000\n",
       "3      34.611765\n",
       "4      26.507589\n",
       "         ...    \n",
       "886    30.740707\n",
       "887    34.611765\n",
       "888    21.750000\n",
       "889    41.281386\n",
       "890    26.507589\n",
       "Name: age, Length: 891, dtype: float64"
      ]
     },
     "execution_count": 35,
     "metadata": {},
     "output_type": "execute_result"
    }
   ],
   "source": [
    "df = sns.load_dataset('titanic')\n",
    "df[df['age'].isna()]\n",
    "# 객실별 성별에 따른 평균값으로 해당 결측치를 대처\n",
    "df.groupby(['pclass', 'sex'])['age'].transform('mean')"
   ]
  },
  {
   "cell_type": "code",
   "execution_count": 36,
   "id": "d1472e93",
   "metadata": {},
   "outputs": [],
   "source": [
    "# 평균 vs 중위수 (어떤 기준으로 선택?)\n",
    "# 평균\n",
    "    # 이상치의 비중이 낮을때\n",
    "# 중위수\n",
    "    # 이상치의 비중이 높을때\n",
    "\n",
    "# 결측치가 많을때 (50%이상) \n",
    "# 머신러닝/딥러닝 기반의 보간 고려"
   ]
  },
  {
   "cell_type": "code",
   "execution_count": 37,
   "id": "7a21ad38-b390-49c1-950b-3285d34890ca",
   "metadata": {
    "tags": []
   },
   "outputs": [
    {
     "data": {
      "text/plain": [
       "0    22.000000\n",
       "1    38.000000\n",
       "2    26.000000\n",
       "3    35.000000\n",
       "4    35.000000\n",
       "5    29.699118\n",
       "6    54.000000\n",
       "7     2.000000\n",
       "8    27.000000\n",
       "9    14.000000\n",
       "Name: age, dtype: float64"
      ]
     },
     "execution_count": 37,
     "metadata": {},
     "output_type": "execute_result"
    }
   ],
   "source": [
    "# age 열의 NaN값을 다른 나이 데이터의 평균으로 변경하기\n",
    "mean_age = df['age'].mean(axis=0)   # age 열의 평균 계산 (NaN 값 제외)\n",
    "df['age'] = df['age'].fillna(mean_age)\n",
    "\n",
    "# age 열의 첫 10개 데이터 출력 (5 행에 NaN 값이 평균으로 대체)\n",
    "df['age'].head(10)"
   ]
  },
  {
   "cell_type": "code",
   "execution_count": 38,
   "id": "afffef41",
   "metadata": {},
   "outputs": [
    {
     "name": "stdout",
     "output_type": "stream",
     "text": [
      "     survived  pclass     sex        age  sibsp  parch     fare embarked  \\\n",
      "0           0       3    male  22.000000      1      0   7.2500        S   \n",
      "1           1       1  female  38.000000      1      0  71.2833        C   \n",
      "2           1       3  female  26.000000      0      0   7.9250        S   \n",
      "3           1       1  female  35.000000      1      0  53.1000        S   \n",
      "4           0       3    male  35.000000      0      0   8.0500        S   \n",
      "..        ...     ...     ...        ...    ...    ...      ...      ...   \n",
      "886         0       2    male  27.000000      0      0  13.0000        S   \n",
      "887         1       1  female  19.000000      0      0  30.0000        S   \n",
      "888         0       3  female  29.699118      1      2  23.4500        S   \n",
      "889         1       1    male  26.000000      0      0  30.0000        C   \n",
      "890         0       3    male  32.000000      0      0   7.7500        Q   \n",
      "\n",
      "      class    who  adult_male deck  embark_town alive  alone  \n",
      "0     Third    man        True  NaN  Southampton    no  False  \n",
      "1     First  woman       False    C    Cherbourg   yes  False  \n",
      "2     Third  woman       False  NaN  Southampton   yes   True  \n",
      "3     First  woman       False    C  Southampton   yes  False  \n",
      "4     Third    man        True  NaN  Southampton    no   True  \n",
      "..      ...    ...         ...  ...          ...   ...    ...  \n",
      "886  Second    man        True  NaN  Southampton    no   True  \n",
      "887   First  woman       False    B  Southampton   yes   True  \n",
      "888   Third  woman       False  NaN  Southampton    no  False  \n",
      "889   First    man        True    C    Cherbourg   yes   True  \n",
      "890   Third    man        True  NaN   Queenstown    no   True  \n",
      "\n",
      "[825 rows x 15 columns]\n"
     ]
    },
    {
     "data": {
      "text/plain": [
       "<Axes: >"
      ]
     },
     "execution_count": 38,
     "metadata": {},
     "output_type": "execute_result"
    },
    {
     "data": {
      "image/png": "[encoded data removed]",
      "text/plain": [
       "<Figure size 640x480 with 1 Axes>"
      ]
     },
     "metadata": {},
     "output_type": "display_data"
    }
   ],
   "source": [
    "q1 = df['age'].quantile(0.25)\n",
    "q3 = df['age'].quantile(0.75)\n",
    "iqr = q3 - q1\n",
    "lower = q1 - iqr * 1.5\n",
    "upper = q3 + iqr * 1.5\n",
    "outlier_mask = (df['age'] >= lower) & (df['age'] <= upper)\n",
    "print(df[outlier_mask])\n",
    "df[outlier_mask]['age'].plot(kind='box')"
   ]
  },
  {
   "cell_type": "code",
   "execution_count": 39,
   "id": "7eb0fe10",
   "metadata": {},
   "outputs": [],
   "source": [
    "# 델타 = 상대적 평균 - 중앙값의 차이\n",
    "# rel_diff = abs(mean-meian) / (abs(median) + 1e-8)\n",
    "# 평균이 중앙값에서 얼마나 떨어져 있는지를 상대적으로 본 값 값이 크면 분포가 치우쳐져 있거나 또는 outlier(이상치) 평균을 끌어당긴다\n",
    "\n",
    "# 세타 : 이상치 비율(IRQ기준)\n",
    "# IQR = Q3 - Q1 이상치 = (Q1 - 1.5IQR ~ Q# + 1.5IQR)\n",
    "# 관측치 중 IQR 기준으로 이상치에 해당하는 값이 차지하는 비율 (크면 평균이 불안정)\n",
    "\n",
    "# rel_diff < 델타 and outlier_frac < 0:\n",
    "#   mean\n",
    "# else\n",
    "#   median\n",
    "\n",
    "# 델타와 세타에 해당하는 값은\n",
    "# 보수적(이상치에 민감) - 델타 0.05(5%) 세타 0.01(1%)\n",
    "# 보통(추천) - 0.05~0.10 0.02~0.03\n",
    "# 관대(어느 정도 편차는 허용) - 0.15 0.05"
   ]
  },
  {
   "cell_type": "code",
   "execution_count": 40,
   "id": "3de31f51",
   "metadata": {},
   "outputs": [
    {
     "name": "stdout",
     "output_type": "stream",
     "text": [
      "100.0\n",
      "0.01\n"
     ]
    }
   ],
   "source": [
    "print(1e2)\n",
    "print(1e-2)"
   ]
  },
  {
   "cell_type": "code",
   "execution_count": 43,
   "id": "630ffb45",
   "metadata": {},
   "outputs": [
    {
     "name": "stdout",
     "output_type": "stream",
     "text": [
      "mean\n"
     ]
    }
   ],
   "source": [
    "import seaborn as sns\n",
    "titanic = sns.load_dataset('titanic')\n",
    "titanic = titanic.dropna(subset=['age'])\n",
    "mean = titanic['age'].mean()\n",
    "median = titanic['age'].median()\n",
    "# 상대적 차이\n",
    "rel_diff = abs(mean - median) / abs(median) + 1e-8\n",
    "# 이상치 비율 계산 이상치계수 / 전체계수\n",
    "# q1 - 1.5iqr - q3 + 1.5iqr\n",
    "q1 = titanic['age'].quantile(0.25)\n",
    "q3 = titanic['age'].quantile(0.75)\n",
    "iqr = q3 - q1\n",
    "lower = q1 - 1.5 * iqr\n",
    "upper = q3 + 1.5 * iqr\n",
    "\n",
    "outlier_frac = ((titanic['age']<lower) | (titanic['age'] > upper)).mean()\n",
    "delta ,setha = 0.08,0.02\n",
    "if rel_diff < delta and outlier_frac < setha:\n",
    "    print('mean')\n",
    "else:\n",
    "    print('median')"
   ]
  }
 ],
 "metadata": {
  "kernelspec": {
   "display_name": ".venv",
   "language": "python",
   "name": "python3"
  },
  "language_info": {
   "codemirror_mode": {
    "name": "ipython",
    "version": 3
   },
   "file_extension": ".py",
   "mimetype": "text/x-python",
   "name": "python",
   "nbconvert_exporter": "python",
   "pygments_lexer": "ipython3",
   "version": "3.13.7"
  }
 },
 "nbformat": 4,
 "nbformat_minor": 5
}
