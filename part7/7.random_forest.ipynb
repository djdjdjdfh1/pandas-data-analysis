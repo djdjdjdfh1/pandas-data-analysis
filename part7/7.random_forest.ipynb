{
 "cells": [
  {
   "cell_type": "code",
   "execution_count": 25,
   "id": "e03cc5b9",
   "metadata": {},
   "outputs": [],
   "source": [
    "from sklearn.ensemble import RandomForestClassifier\n",
    "from sklearn.tree import DecisionTreeClassifier\n",
    "from sklearn.metrics import classification_report"
   ]
  },
  {
   "cell_type": "code",
   "execution_count": 26,
   "id": "f0b5e6a8",
   "metadata": {},
   "outputs": [],
   "source": [
    "# %pip install ucimlrepo"
   ]
  },
  {
   "cell_type": "code",
   "execution_count": 27,
   "id": "9675d33a",
   "metadata": {},
   "outputs": [],
   "source": [
    "from ucimlrepo import fetch_ucirepo\n",
    "\n",
    "# fetch dataset\n",
    "wine_quality = fetch_ucirepo(id=186)\n",
    "\n",
    "# data (as pandas dataframes)\n",
    "X = wine_quality.data.features\n",
    "y = wine_quality.data.targets"
   ]
  },
  {
   "cell_type": "code",
   "execution_count": 28,
   "id": "cb93768e",
   "metadata": {},
   "outputs": [],
   "source": [
    "# 6 이상이면 1 그렇지 않으면 0\n",
    "y2 = y.quality.apply(lambda x: 1 if x >= 6 else 0)"
   ]
  },
  {
   "cell_type": "code",
   "execution_count": 29,
   "id": "247c0b57",
   "metadata": {},
   "outputs": [],
   "source": [
    "# 데이터 분할\n",
    "from sklearn.model_selection import train_test_split\n",
    "X_train, X_test, y_train, y_test = train_test_split(X, y2, test_size=0.2, random_state=42, stratify=y2)"
   ]
  },
  {
   "cell_type": "code",
   "execution_count": null,
   "id": "d4b28a3a",
   "metadata": {},
   "outputs": [
    {
     "data": {
      "text/plain": [
       "0.8376923076923077"
      ]
     },
     "execution_count": 30,
     "metadata": {},
     "output_type": "execute_result"
    }
   ],
   "source": [
    "# 랜덤포레스트 모델 학습\n",
    "rf_model = RandomForestClassifier(n_estimators=100, random_state=42)\n",
    "rf_model.fit(X_train, y_train)\n",
    "rf_model.score(X_test, y_test)"
   ]
  },
  {
   "cell_type": "code",
   "execution_count": 31,
   "id": "29f3e93f",
   "metadata": {},
   "outputs": [
    {
     "data": {
      "text/plain": [
       "0.7761538461538462"
      ]
     },
     "execution_count": 31,
     "metadata": {},
     "output_type": "execute_result"
    }
   ],
   "source": [
    "# 결정트리 모델 학습\n",
    "dt_model = DecisionTreeClassifier(random_state=42)\n",
    "dt_model.fit(X_train, y_train)\n",
    "dt_model.score(X_test, y_test)"
   ]
  },
  {
   "cell_type": "code",
   "execution_count": 32,
   "id": "2e7d6fad",
   "metadata": {},
   "outputs": [
    {
     "name": "stdout",
     "output_type": "stream",
     "text": [
      "              precision    recall  f1-score   support\n",
      "\n",
      "           0       0.81      0.73      0.77       477\n",
      "           1       0.85      0.90      0.88       823\n",
      "\n",
      "    accuracy                           0.84      1300\n",
      "   macro avg       0.83      0.82      0.82      1300\n",
      "weighted avg       0.84      0.84      0.84      1300\n",
      "\n",
      "              precision    recall  f1-score   support\n",
      "\n",
      "           0       0.69      0.70      0.70       477\n",
      "           1       0.83      0.82      0.82       823\n",
      "\n",
      "    accuracy                           0.78      1300\n",
      "   macro avg       0.76      0.76      0.76      1300\n",
      "weighted avg       0.78      0.78      0.78      1300\n",
      "\n"
     ]
    }
   ],
   "source": [
    "# rf_model 와 dt_model 예측값\n",
    "rf_pred = rf_model.predict(X_test)\n",
    "dt_pred = dt_model.predict(X_test)\n",
    "\n",
    "print( classification_report(y_test, rf_pred))\n",
    "print( classification_report(y_test, dt_pred))\n"
   ]
  },
  {
   "cell_type": "code",
   "execution_count": null,
   "id": "b4adb32c",
   "metadata": {},
   "outputs": [
    {
     "name": "stdout",
     "output_type": "stream",
     "text": [
      "quality\n",
      "1    3290\n",
      "0    1907\n",
      "Name: count, dtype: int64\n",
      "quality\n",
      "0    1954\n",
      "1    1498\n",
      "Name: count, dtype: int64\n"
     ]
    }
   ],
   "source": [
    "# 클래스 불균형을 처리, 0:477 1:823을 upscaling SMOTE EEN\n",
    "from imblearn.combine import SMOTEENN\n",
    "smote_enn = SMOTEENN(random_state=42)\n",
    "X_train_resampled2, y_train_resampled2 = smote_enn.fit_resample(X_train, y_train)\n",
    "\n",
    "from imblearn.over_sampling import SMOTE\n",
    "smote = SMOTE(random_state=42)\n",
    "X_train_resampled1, y_train_resampled1 = smote.fit_resample(X_train, y_train)\n"
   ]
  }
 ],
 "metadata": {
  "kernelspec": {
   "display_name": ".venv",
   "language": "python",
   "name": "python3"
  },
  "language_info": {
   "codemirror_mode": {
    "name": "ipython",
    "version": 3
   },
   "file_extension": ".py",
   "mimetype": "text/x-python",
   "name": "python",
   "nbconvert_exporter": "python",
   "pygments_lexer": "ipython3",
   "version": "3.13.7"
  }
 },
 "nbformat": 4,
 "nbformat_minor": 5
}
