{
 "cells": [
  {
   "cell_type": "markdown",
   "id": "d2645553",
   "metadata": {},
   "source": [
    "#### K-Means k-평균 - 비지도 학습 -  군집(Cluster)\n",
    "```\n",
    "초기 중심점 설정 (Centroid)\n",
    "데이터 할당(Assignment)\n",
    "중심점 업데이트(Update)\n",
    "```"
   ]
  },
  {
   "cell_type": "code",
   "execution_count": 2,
   "id": "4fa3609b",
   "metadata": {},
   "outputs": [
    {
     "name": "stdout",
     "output_type": "stream",
     "text": [
      "<class 'pandas.core.frame.DataFrame'>\n",
      "RangeIndex: 8950 entries, 0 to 8949\n",
      "Data columns (total 18 columns):\n",
      " #   Column                            Non-Null Count  Dtype  \n",
      "---  ------                            --------------  -----  \n",
      " 0   CUST_ID                           8950 non-null   object \n",
      " 1   BALANCE                           8950 non-null   float64\n",
      " 2   BALANCE_FREQUENCY                 8950 non-null   float64\n",
      " 3   PURCHASES                         8950 non-null   float64\n",
      " 4   ONEOFF_PURCHASES                  8950 non-null   float64\n",
      " 5   INSTALLMENTS_PURCHASES            8950 non-null   float64\n",
      " 6   CASH_ADVANCE                      8950 non-null   float64\n",
      " 7   PURCHASES_FREQUENCY               8950 non-null   float64\n",
      " 8   ONEOFF_PURCHASES_FREQUENCY        8950 non-null   float64\n",
      " 9   PURCHASES_INSTALLMENTS_FREQUENCY  8950 non-null   float64\n",
      " 10  CASH_ADVANCE_FREQUENCY            8950 non-null   float64\n",
      " 11  CASH_ADVANCE_TRX                  8950 non-null   int64  \n",
      " 12  PURCHASES_TRX                     8950 non-null   int64  \n",
      " 13  CREDIT_LIMIT                      8949 non-null   float64\n",
      " 14  PAYMENTS                          8950 non-null   float64\n",
      " 15  MINIMUM_PAYMENTS                  8637 non-null   float64\n",
      " 16  PRC_FULL_PAYMENT                  8950 non-null   float64\n",
      " 17  TENURE                            8950 non-null   int64  \n",
      "dtypes: float64(14), int64(3), object(1)\n",
      "memory usage: 1.2+ MB\n"
     ]
    }
   ],
   "source": [
    "# 카드사 고객 분석\n",
    "import pandas as pd\n",
    "df = pd.read_csv('CC-GENERAL.csv')\n",
    "df.info()"
   ]
  },
  {
   "cell_type": "code",
   "execution_count": 5,
   "id": "4d7f8cb1",
   "metadata": {},
   "outputs": [
    {
     "data": {
      "text/plain": [
       "0        139.509787\n",
       "1       1072.340217\n",
       "2        627.284787\n",
       "3        864.304943\n",
       "4        244.791237\n",
       "           ...     \n",
       "8945      48.886365\n",
       "8946     864.304943\n",
       "8947      82.418369\n",
       "8948      55.755628\n",
       "8949      88.288956\n",
       "Name: MINIMUM_PAYMENTS, Length: 8949, dtype: float64"
      ]
     },
     "execution_count": 5,
     "metadata": {},
     "output_type": "execute_result"
    }
   ],
   "source": [
    "credit_df = df.copy()\n",
    "credit_df = credit_df.drop(columns=['CUST_ID'])\n",
    "credit_df = credit_df.dropna(subset=['CREDIT_LIMIT'])\n",
    "credit_df.MINIMUM_PAYMENTS.fillna( credit_df.MINIMUM_PAYMENTS.mean() )"
   ]
  },
  {
   "cell_type": "code",
   "execution_count": 8,
   "id": "5f4861e4",
   "metadata": {},
   "outputs": [
    {
     "data": {
      "text/plain": [
       "array([[-0.73205404, -0.24988139, -0.4249337 , ..., -0.30550763,\n",
       "        -0.52558844,  0.36054128],\n",
       "       [ 0.78685815,  0.1340494 , -0.4695839 , ...,  0.08768873,\n",
       "         0.2341587 ,  0.36054128],\n",
       "       [ 0.44704093,  0.51798018, -0.10771601, ..., -0.09990611,\n",
       "        -0.52558844,  0.36054128],\n",
       "       ...,\n",
       "       [-0.74046257, -0.18589504, -0.40200016, ..., -0.32957217,\n",
       "         0.32912795, -4.12691899],\n",
       "       [-0.74523857, -0.18589504, -0.4695839 , ..., -0.34081076,\n",
       "         0.32912795, -4.12691899],\n",
       "       [-0.57264377, -0.88976603,  0.0420915 , ..., -0.32709767,\n",
       "        -0.52558844, -4.12691899]], shape=(8949, 17))"
      ]
     },
     "execution_count": 8,
     "metadata": {},
     "output_type": "execute_result"
    }
   ],
   "source": [
    "from sklearn.preprocessing import StandardScaler \n",
    "scaler = StandardScaler()\n",
    "df_scaled = scaler.fit_transform(credit_df)\n",
    "df_scaled"
   ]
  }
 ],
 "metadata": {
  "kernelspec": {
   "display_name": ".venv",
   "language": "python",
   "name": "python3"
  },
  "language_info": {
   "codemirror_mode": {
    "name": "ipython",
    "version": 3
   },
   "file_extension": ".py",
   "mimetype": "text/x-python",
   "name": "python",
   "nbconvert_exporter": "python",
   "pygments_lexer": "ipython3",
   "version": "3.13.7"
  }
 },
 "nbformat": 4,
 "nbformat_minor": 5
}
