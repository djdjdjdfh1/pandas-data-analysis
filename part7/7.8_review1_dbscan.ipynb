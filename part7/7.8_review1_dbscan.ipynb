{
 "cells": [
  {
   "cell_type": "code",
   "execution_count": null,
   "id": "fa20a72f",
   "metadata": {},
   "outputs": [],
   "source": [
    "# DBSCAN 데이터의 밀도를 기반으로 군집을 형성\n",
    "# 데이터가 붐비는 정도를 파악해서 복잡한 모양의 군집을 찾고 노이즈를 구분\n",
    "# 군집에 속하지 않는 데이터를 구분하는데 효과적\n",
    "\n",
    "# 입실론 : 개별 데이터를 기준으로 반경을 정의해서 그 안에 있는 데이터는 이웃\n",
    "# 최소점 : 하나의 점이 밀집지역의 중심으로 인정받기위해 필요한 최소한의 이웃 데이터 개수(자신을 포함) \n",
    "\n",
    "# 군집형성과정:\n",
    "# 1. 핵심점(core point) : 반경 eps 안에 min_samples 개 이상의 점을 가진 점\n",
    "# 2. 경계점(Border point) : 핵심점은 아니지만 다른 핵심점의 반경 x1내에 위치한 점\n",
    "# 3. 잡음은 어느 클러스터에도 속하지 않은 점 --> out lier 이상치\n",
    "\n",
    "# 장점 : 군집개수가 불필요\n",
    "# 데이터의 밀도가 다르기 때문에 원형이 아니고 다양한 모양의 군집도 잘 찾음\n",
    "# 노이즈 식별이 잘됨\n",
    "\n",
    "# 데이터의 분포 형태를 모를 때, 노이즈가 많을걸로 예상될때 상권 등"
   ]
  },
  {
   "cell_type": "code",
   "execution_count": null,
   "id": "ca50703c",
   "metadata": {},
   "outputs": [],
   "source": [
    "import numpy as np\n",
    "import matplotlib.pyplot as plt\n",
    "from sklearn.datasets import make_moons\n",
    "from sklearn.cluster import DBSCAN, KMeans "
   ]
  },
  {
   "cell_type": "code",
   "execution_count": null,
   "id": "2d37d028",
   "metadata": {},
   "outputs": [],
   "source": [
    "# 초승달 모양의 샘플 데이터 생성\n",
    "X, y = make_moons(n_samples=200, noise=0.05, random_state=42)"
   ]
  },
  {
   "cell_type": "code",
   "execution_count": null,
   "id": "f4b289b2",
   "metadata": {},
   "outputs": [],
   "source": [
    "# 알고리즘 적용 k-means\n",
    "y_prd = KMeans(n_clusters=2).fit_predict(X)"
   ]
  }
 ],
 "metadata": {
  "kernelspec": {
   "display_name": "study",
   "language": "python",
   "name": "python3"
  },
  "language_info": {
   "codemirror_mode": {
    "name": "ipython",
    "version": 3
   },
   "file_extension": ".py",
   "mimetype": "text/x-python",
   "name": "python",
   "nbconvert_exporter": "python",
   "pygments_lexer": "ipython3",
   "version": "3.11.0"
  }
 },
 "nbformat": 4,
 "nbformat_minor": 5
}
