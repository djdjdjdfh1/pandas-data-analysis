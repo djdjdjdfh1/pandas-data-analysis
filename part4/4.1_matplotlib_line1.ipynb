{
 "cells": [
  {
   "cell_type": "code",
   "execution_count": 1,
   "id": "6c64b595-4641-40ef-8f09-20530678668f",
   "metadata": {
    "tags": []
   },
   "outputs": [
    {
     "data": {
      "text/html": [
       "<div>\n",
       "<style scoped>\n",
       "    .dataframe tbody tr th:only-of-type {\n",
       "        vertical-align: middle;\n",
       "    }\n",
       "\n",
       "    .dataframe tbody tr th {\n",
       "        vertical-align: top;\n",
       "    }\n",
       "\n",
       "    .dataframe thead th {\n",
       "        text-align: right;\n",
       "    }\n",
       "</style>\n",
       "<table border=\"1\" class=\"dataframe\">\n",
       "  <thead>\n",
       "    <tr style=\"text-align: right;\">\n",
       "      <th></th>\n",
       "      <th>전출지별</th>\n",
       "      <th>전입지별</th>\n",
       "      <th>1970</th>\n",
       "      <th>1971</th>\n",
       "      <th>1972</th>\n",
       "      <th>1973</th>\n",
       "      <th>1974</th>\n",
       "      <th>1975</th>\n",
       "      <th>1976</th>\n",
       "      <th>1977</th>\n",
       "      <th>...</th>\n",
       "      <th>2008</th>\n",
       "      <th>2009</th>\n",
       "      <th>2010</th>\n",
       "      <th>2011</th>\n",
       "      <th>2012</th>\n",
       "      <th>2013</th>\n",
       "      <th>2014</th>\n",
       "      <th>2015</th>\n",
       "      <th>2016</th>\n",
       "      <th>2017</th>\n",
       "    </tr>\n",
       "  </thead>\n",
       "  <tbody>\n",
       "    <tr>\n",
       "      <th>0</th>\n",
       "      <td>전출지별</td>\n",
       "      <td>전입지별</td>\n",
       "      <td>이동자수 (명)</td>\n",
       "      <td>이동자수 (명)</td>\n",
       "      <td>이동자수 (명)</td>\n",
       "      <td>이동자수 (명)</td>\n",
       "      <td>이동자수 (명)</td>\n",
       "      <td>이동자수 (명)</td>\n",
       "      <td>이동자수 (명)</td>\n",
       "      <td>이동자수 (명)</td>\n",
       "      <td>...</td>\n",
       "      <td>이동자수 (명)</td>\n",
       "      <td>이동자수 (명)</td>\n",
       "      <td>이동자수 (명)</td>\n",
       "      <td>이동자수 (명)</td>\n",
       "      <td>이동자수 (명)</td>\n",
       "      <td>이동자수 (명)</td>\n",
       "      <td>이동자수 (명)</td>\n",
       "      <td>이동자수 (명)</td>\n",
       "      <td>이동자수 (명)</td>\n",
       "      <td>이동자수 (명)</td>\n",
       "    </tr>\n",
       "    <tr>\n",
       "      <th>1</th>\n",
       "      <td>전국</td>\n",
       "      <td>전국</td>\n",
       "      <td>4046536</td>\n",
       "      <td>4210164</td>\n",
       "      <td>3687938</td>\n",
       "      <td>4860418</td>\n",
       "      <td>5297969</td>\n",
       "      <td>9011440</td>\n",
       "      <td>6773250</td>\n",
       "      <td>7397623</td>\n",
       "      <td>...</td>\n",
       "      <td>8808256</td>\n",
       "      <td>8487275</td>\n",
       "      <td>8226594</td>\n",
       "      <td>8127195</td>\n",
       "      <td>7506691</td>\n",
       "      <td>7411784</td>\n",
       "      <td>7629098</td>\n",
       "      <td>7755286</td>\n",
       "      <td>7378430</td>\n",
       "      <td>7154226</td>\n",
       "    </tr>\n",
       "    <tr>\n",
       "      <th>2</th>\n",
       "      <td>NaN</td>\n",
       "      <td>서울특별시</td>\n",
       "      <td>1742813</td>\n",
       "      <td>1671705</td>\n",
       "      <td>1349333</td>\n",
       "      <td>1831858</td>\n",
       "      <td>2050392</td>\n",
       "      <td>3396662</td>\n",
       "      <td>2756510</td>\n",
       "      <td>2893403</td>\n",
       "      <td>...</td>\n",
       "      <td>2025358</td>\n",
       "      <td>1873188</td>\n",
       "      <td>1733015</td>\n",
       "      <td>1721748</td>\n",
       "      <td>1555281</td>\n",
       "      <td>1520090</td>\n",
       "      <td>1573594</td>\n",
       "      <td>1589431</td>\n",
       "      <td>1515602</td>\n",
       "      <td>1472937</td>\n",
       "    </tr>\n",
       "    <tr>\n",
       "      <th>3</th>\n",
       "      <td>NaN</td>\n",
       "      <td>부산광역시</td>\n",
       "      <td>448577</td>\n",
       "      <td>389797</td>\n",
       "      <td>362202</td>\n",
       "      <td>482061</td>\n",
       "      <td>680984</td>\n",
       "      <td>805979</td>\n",
       "      <td>724664</td>\n",
       "      <td>785117</td>\n",
       "      <td>...</td>\n",
       "      <td>514502</td>\n",
       "      <td>519310</td>\n",
       "      <td>519334</td>\n",
       "      <td>508043</td>\n",
       "      <td>461042</td>\n",
       "      <td>478451</td>\n",
       "      <td>485710</td>\n",
       "      <td>507031</td>\n",
       "      <td>459015</td>\n",
       "      <td>439073</td>\n",
       "    </tr>\n",
       "    <tr>\n",
       "      <th>4</th>\n",
       "      <td>NaN</td>\n",
       "      <td>대구광역시</td>\n",
       "      <td>-</td>\n",
       "      <td>-</td>\n",
       "      <td>-</td>\n",
       "      <td>-</td>\n",
       "      <td>-</td>\n",
       "      <td>-</td>\n",
       "      <td>-</td>\n",
       "      <td>-</td>\n",
       "      <td>...</td>\n",
       "      <td>409938</td>\n",
       "      <td>398626</td>\n",
       "      <td>370817</td>\n",
       "      <td>370563</td>\n",
       "      <td>348642</td>\n",
       "      <td>351873</td>\n",
       "      <td>350213</td>\n",
       "      <td>351424</td>\n",
       "      <td>328228</td>\n",
       "      <td>321182</td>\n",
       "    </tr>\n",
       "  </tbody>\n",
       "</table>\n",
       "<p>5 rows × 50 columns</p>\n",
       "</div>"
      ],
      "text/plain": [
       "   전출지별   전입지별      1970      1971      1972      1973      1974      1975  \\\n",
       "0  전출지별   전입지별  이동자수 (명)  이동자수 (명)  이동자수 (명)  이동자수 (명)  이동자수 (명)  이동자수 (명)   \n",
       "1    전국     전국   4046536   4210164   3687938   4860418   5297969   9011440   \n",
       "2   NaN  서울특별시   1742813   1671705   1349333   1831858   2050392   3396662   \n",
       "3   NaN  부산광역시    448577    389797    362202    482061    680984    805979   \n",
       "4   NaN  대구광역시         -         -         -         -         -         -   \n",
       "\n",
       "       1976      1977  ...      2008      2009      2010      2011      2012  \\\n",
       "0  이동자수 (명)  이동자수 (명)  ...  이동자수 (명)  이동자수 (명)  이동자수 (명)  이동자수 (명)  이동자수 (명)   \n",
       "1   6773250   7397623  ...   8808256   8487275   8226594   8127195   7506691   \n",
       "2   2756510   2893403  ...   2025358   1873188   1733015   1721748   1555281   \n",
       "3    724664    785117  ...    514502    519310    519334    508043    461042   \n",
       "4         -         -  ...    409938    398626    370817    370563    348642   \n",
       "\n",
       "       2013      2014      2015      2016      2017  \n",
       "0  이동자수 (명)  이동자수 (명)  이동자수 (명)  이동자수 (명)  이동자수 (명)  \n",
       "1   7411784   7629098   7755286   7378430   7154226  \n",
       "2   1520090   1573594   1589431   1515602   1472937  \n",
       "3    478451    485710    507031    459015    439073  \n",
       "4    351873    350213    351424    328228    321182  \n",
       "\n",
       "[5 rows x 50 columns]"
      ]
     },
     "execution_count": 1,
     "metadata": {},
     "output_type": "execute_result"
    }
   ],
   "source": [
    "# 라이브러리 불러오기\n",
    "import pandas as pd\n",
    "import matplotlib.pyplot as plt\n",
    "\n",
    "# Excel 데이터를 데이터프레임 변환 \n",
    "df = pd.read_excel('./data/시도별_전출입_인구수.xlsx')\n",
    "\n",
    "# 첫 5행 출력\n",
    "df.head()"
   ]
  },
  {
   "cell_type": "code",
   "execution_count": 2,
   "id": "eac59fc9",
   "metadata": {},
   "outputs": [
    {
     "data": {
      "text/plain": [
       "array(['전출지별', '전국', nan, '서울특별시', '부산광역시', '대구광역시', '인천광역시', '광주광역시',\n",
       "       '대전광역시', '울산광역시', '세종특별자치시', '경기도', '강원도', '충청북도', '충청남도', '전라북도',\n",
       "       '전라남도', '경상북도', '경상남도', '제주특별자치도'], dtype=object)"
      ]
     },
     "execution_count": 2,
     "metadata": {},
     "output_type": "execute_result"
    }
   ],
   "source": [
    "df['전출지별'].unique()"
   ]
  },
  {
   "cell_type": "code",
   "execution_count": 3,
   "id": "3ff586fd",
   "metadata": {},
   "outputs": [
    {
     "data": {
      "text/plain": [
       "array(['전입지별', '전국', '서울특별시', '부산광역시', '대구광역시', '인천광역시', '광주광역시', '대전광역시',\n",
       "       '울산광역시', '세종특별자치시', '경기도', '강원도', '충청북도', '충청남도', '전라북도', '전라남도',\n",
       "       '경상북도', '경상남도', '제주특별자치도'], dtype=object)"
      ]
     },
     "execution_count": 3,
     "metadata": {},
     "output_type": "execute_result"
    }
   ],
   "source": [
    "df['전입지별'].unique()"
   ]
  },
  {
   "cell_type": "code",
   "execution_count": 4,
   "id": "c8fd1c13",
   "metadata": {},
   "outputs": [],
   "source": [
    "# nan NaN 결측치 -- 데이터 없음\n",
    "# 1. 제거 - 데이터가 충분해서 해당 결측치 해당 데이터를 삭제해도 충분할 때\n",
    "# 2. 대처\n",
    "    # 단순실수로 누락되어서 뻔히 어떤값인지 알수 있을 때\n",
    "    # 결측치가 전체 데이터대비 적다.. 대략 15% 미만이고, 데이터가 적어서 살려야 할 때 - 평균,표준편차,빈도수 등 다양하게 채움\n",
    "    # 보간기법이라고 함 --> 자체 머신러닝을 이용해서 해당 부분의 값을 예측"
   ]
  },
  {
   "cell_type": "code",
   "execution_count": 5,
   "id": "22e56931-a5ce-4a84-9fb2-d96e3a1742b5",
   "metadata": {
    "tags": []
   },
   "outputs": [
    {
     "data": {
      "text/html": [
       "<div>\n",
       "<style scoped>\n",
       "    .dataframe tbody tr th:only-of-type {\n",
       "        vertical-align: middle;\n",
       "    }\n",
       "\n",
       "    .dataframe tbody tr th {\n",
       "        vertical-align: top;\n",
       "    }\n",
       "\n",
       "    .dataframe thead th {\n",
       "        text-align: right;\n",
       "    }\n",
       "</style>\n",
       "<table border=\"1\" class=\"dataframe\">\n",
       "  <thead>\n",
       "    <tr style=\"text-align: right;\">\n",
       "      <th></th>\n",
       "      <th>전출지별</th>\n",
       "      <th>전입지별</th>\n",
       "      <th>1970</th>\n",
       "      <th>1971</th>\n",
       "      <th>1972</th>\n",
       "      <th>1973</th>\n",
       "      <th>1974</th>\n",
       "      <th>1975</th>\n",
       "      <th>1976</th>\n",
       "      <th>1977</th>\n",
       "      <th>...</th>\n",
       "      <th>2008</th>\n",
       "      <th>2009</th>\n",
       "      <th>2010</th>\n",
       "      <th>2011</th>\n",
       "      <th>2012</th>\n",
       "      <th>2013</th>\n",
       "      <th>2014</th>\n",
       "      <th>2015</th>\n",
       "      <th>2016</th>\n",
       "      <th>2017</th>\n",
       "    </tr>\n",
       "  </thead>\n",
       "  <tbody>\n",
       "    <tr>\n",
       "      <th>0</th>\n",
       "      <td>전출지별</td>\n",
       "      <td>전입지별</td>\n",
       "      <td>이동자수 (명)</td>\n",
       "      <td>이동자수 (명)</td>\n",
       "      <td>이동자수 (명)</td>\n",
       "      <td>이동자수 (명)</td>\n",
       "      <td>이동자수 (명)</td>\n",
       "      <td>이동자수 (명)</td>\n",
       "      <td>이동자수 (명)</td>\n",
       "      <td>이동자수 (명)</td>\n",
       "      <td>...</td>\n",
       "      <td>이동자수 (명)</td>\n",
       "      <td>이동자수 (명)</td>\n",
       "      <td>이동자수 (명)</td>\n",
       "      <td>이동자수 (명)</td>\n",
       "      <td>이동자수 (명)</td>\n",
       "      <td>이동자수 (명)</td>\n",
       "      <td>이동자수 (명)</td>\n",
       "      <td>이동자수 (명)</td>\n",
       "      <td>이동자수 (명)</td>\n",
       "      <td>이동자수 (명)</td>\n",
       "    </tr>\n",
       "    <tr>\n",
       "      <th>1</th>\n",
       "      <td>전국</td>\n",
       "      <td>전국</td>\n",
       "      <td>4046536</td>\n",
       "      <td>4210164</td>\n",
       "      <td>3687938</td>\n",
       "      <td>4860418</td>\n",
       "      <td>5297969</td>\n",
       "      <td>9011440</td>\n",
       "      <td>6773250</td>\n",
       "      <td>7397623</td>\n",
       "      <td>...</td>\n",
       "      <td>8808256</td>\n",
       "      <td>8487275</td>\n",
       "      <td>8226594</td>\n",
       "      <td>8127195</td>\n",
       "      <td>7506691</td>\n",
       "      <td>7411784</td>\n",
       "      <td>7629098</td>\n",
       "      <td>7755286</td>\n",
       "      <td>7378430</td>\n",
       "      <td>7154226</td>\n",
       "    </tr>\n",
       "    <tr>\n",
       "      <th>2</th>\n",
       "      <td>전국</td>\n",
       "      <td>서울특별시</td>\n",
       "      <td>1742813</td>\n",
       "      <td>1671705</td>\n",
       "      <td>1349333</td>\n",
       "      <td>1831858</td>\n",
       "      <td>2050392</td>\n",
       "      <td>3396662</td>\n",
       "      <td>2756510</td>\n",
       "      <td>2893403</td>\n",
       "      <td>...</td>\n",
       "      <td>2025358</td>\n",
       "      <td>1873188</td>\n",
       "      <td>1733015</td>\n",
       "      <td>1721748</td>\n",
       "      <td>1555281</td>\n",
       "      <td>1520090</td>\n",
       "      <td>1573594</td>\n",
       "      <td>1589431</td>\n",
       "      <td>1515602</td>\n",
       "      <td>1472937</td>\n",
       "    </tr>\n",
       "    <tr>\n",
       "      <th>3</th>\n",
       "      <td>전국</td>\n",
       "      <td>부산광역시</td>\n",
       "      <td>448577</td>\n",
       "      <td>389797</td>\n",
       "      <td>362202</td>\n",
       "      <td>482061</td>\n",
       "      <td>680984</td>\n",
       "      <td>805979</td>\n",
       "      <td>724664</td>\n",
       "      <td>785117</td>\n",
       "      <td>...</td>\n",
       "      <td>514502</td>\n",
       "      <td>519310</td>\n",
       "      <td>519334</td>\n",
       "      <td>508043</td>\n",
       "      <td>461042</td>\n",
       "      <td>478451</td>\n",
       "      <td>485710</td>\n",
       "      <td>507031</td>\n",
       "      <td>459015</td>\n",
       "      <td>439073</td>\n",
       "    </tr>\n",
       "    <tr>\n",
       "      <th>4</th>\n",
       "      <td>전국</td>\n",
       "      <td>대구광역시</td>\n",
       "      <td>-</td>\n",
       "      <td>-</td>\n",
       "      <td>-</td>\n",
       "      <td>-</td>\n",
       "      <td>-</td>\n",
       "      <td>-</td>\n",
       "      <td>-</td>\n",
       "      <td>-</td>\n",
       "      <td>...</td>\n",
       "      <td>409938</td>\n",
       "      <td>398626</td>\n",
       "      <td>370817</td>\n",
       "      <td>370563</td>\n",
       "      <td>348642</td>\n",
       "      <td>351873</td>\n",
       "      <td>350213</td>\n",
       "      <td>351424</td>\n",
       "      <td>328228</td>\n",
       "      <td>321182</td>\n",
       "    </tr>\n",
       "  </tbody>\n",
       "</table>\n",
       "<p>5 rows × 50 columns</p>\n",
       "</div>"
      ],
      "text/plain": [
       "   전출지별   전입지별      1970      1971      1972      1973      1974      1975  \\\n",
       "0  전출지별   전입지별  이동자수 (명)  이동자수 (명)  이동자수 (명)  이동자수 (명)  이동자수 (명)  이동자수 (명)   \n",
       "1    전국     전국   4046536   4210164   3687938   4860418   5297969   9011440   \n",
       "2    전국  서울특별시   1742813   1671705   1349333   1831858   2050392   3396662   \n",
       "3    전국  부산광역시    448577    389797    362202    482061    680984    805979   \n",
       "4    전국  대구광역시         -         -         -         -         -         -   \n",
       "\n",
       "       1976      1977  ...      2008      2009      2010      2011      2012  \\\n",
       "0  이동자수 (명)  이동자수 (명)  ...  이동자수 (명)  이동자수 (명)  이동자수 (명)  이동자수 (명)  이동자수 (명)   \n",
       "1   6773250   7397623  ...   8808256   8487275   8226594   8127195   7506691   \n",
       "2   2756510   2893403  ...   2025358   1873188   1733015   1721748   1555281   \n",
       "3    724664    785117  ...    514502    519310    519334    508043    461042   \n",
       "4         -         -  ...    409938    398626    370817    370563    348642   \n",
       "\n",
       "       2013      2014      2015      2016      2017  \n",
       "0  이동자수 (명)  이동자수 (명)  이동자수 (명)  이동자수 (명)  이동자수 (명)  \n",
       "1   7411784   7629098   7755286   7378430   7154226  \n",
       "2   1520090   1573594   1589431   1515602   1472937  \n",
       "3    478451    485710    507031    459015    439073  \n",
       "4    351873    350213    351424    328228    321182  \n",
       "\n",
       "[5 rows x 50 columns]"
      ]
     },
     "execution_count": 5,
     "metadata": {},
     "output_type": "execute_result"
    }
   ],
   "source": [
    "# 누락값(NaN)을 앞 데이터로 채움 (엑셀 양식 병합 부분)\n",
    "df = df.ffill()\n",
    "df.head()"
   ]
  },
  {
   "cell_type": "code",
   "execution_count": 6,
   "id": "b7ccb769-126f-4fe6-8a1d-eb851e307f19",
   "metadata": {
    "tags": []
   },
   "outputs": [
    {
     "data": {
      "text/plain": [
       "<Axes: >"
      ]
     },
     "execution_count": 6,
     "metadata": {},
     "output_type": "execute_result"
    },
    {
     "name": "stderr",
     "output_type": "stream",
     "text": [
      "c:\\Users\\playdata2\\Desktop\\python_src\\.venv\\Lib\\site-packages\\IPython\\core\\events.py:82: UserWarning: Glyph 51204 (\\N{HANGUL SYLLABLE JEON}) missing from font(s) DejaVu Sans.\n",
      "  func(*args, **kwargs)\n",
      "c:\\Users\\playdata2\\Desktop\\python_src\\.venv\\Lib\\site-packages\\IPython\\core\\events.py:82: UserWarning: Glyph 52636 (\\N{HANGUL SYLLABLE CUL}) missing from font(s) DejaVu Sans.\n",
      "  func(*args, **kwargs)\n",
      "c:\\Users\\playdata2\\Desktop\\python_src\\.venv\\Lib\\site-packages\\IPython\\core\\events.py:82: UserWarning: Glyph 51648 (\\N{HANGUL SYLLABLE JI}) missing from font(s) DejaVu Sans.\n",
      "  func(*args, **kwargs)\n",
      "c:\\Users\\playdata2\\Desktop\\python_src\\.venv\\Lib\\site-packages\\IPython\\core\\events.py:82: UserWarning: Glyph 44397 (\\N{HANGUL SYLLABLE GUG}) missing from font(s) DejaVu Sans.\n",
      "  func(*args, **kwargs)\n",
      "c:\\Users\\playdata2\\Desktop\\python_src\\.venv\\Lib\\site-packages\\IPython\\core\\events.py:82: UserWarning: Glyph 48512 (\\N{HANGUL SYLLABLE BU}) missing from font(s) DejaVu Sans.\n",
      "  func(*args, **kwargs)\n",
      "c:\\Users\\playdata2\\Desktop\\python_src\\.venv\\Lib\\site-packages\\IPython\\core\\events.py:82: UserWarning: Glyph 49328 (\\N{HANGUL SYLLABLE SAN}) missing from font(s) DejaVu Sans.\n",
      "  func(*args, **kwargs)\n",
      "c:\\Users\\playdata2\\Desktop\\python_src\\.venv\\Lib\\site-packages\\IPython\\core\\events.py:82: UserWarning: Glyph 44305 (\\N{HANGUL SYLLABLE GWANG}) missing from font(s) DejaVu Sans.\n",
      "  func(*args, **kwargs)\n",
      "c:\\Users\\playdata2\\Desktop\\python_src\\.venv\\Lib\\site-packages\\IPython\\core\\events.py:82: UserWarning: Glyph 50669 (\\N{HANGUL SYLLABLE YEOG}) missing from font(s) DejaVu Sans.\n",
      "  func(*args, **kwargs)\n",
      "c:\\Users\\playdata2\\Desktop\\python_src\\.venv\\Lib\\site-packages\\IPython\\core\\events.py:82: UserWarning: Glyph 49884 (\\N{HANGUL SYLLABLE SI}) missing from font(s) DejaVu Sans.\n",
      "  func(*args, **kwargs)\n",
      "c:\\Users\\playdata2\\Desktop\\python_src\\.venv\\Lib\\site-packages\\IPython\\core\\events.py:82: UserWarning: Glyph 44221 (\\N{HANGUL SYLLABLE GYEONG}) missing from font(s) DejaVu Sans.\n",
      "  func(*args, **kwargs)\n",
      "c:\\Users\\playdata2\\Desktop\\python_src\\.venv\\Lib\\site-packages\\IPython\\core\\events.py:82: UserWarning: Glyph 44592 (\\N{HANGUL SYLLABLE GI}) missing from font(s) DejaVu Sans.\n",
      "  func(*args, **kwargs)\n",
      "c:\\Users\\playdata2\\Desktop\\python_src\\.venv\\Lib\\site-packages\\IPython\\core\\events.py:82: UserWarning: Glyph 46020 (\\N{HANGUL SYLLABLE DO}) missing from font(s) DejaVu Sans.\n",
      "  func(*args, **kwargs)\n",
      "c:\\Users\\playdata2\\Desktop\\python_src\\.venv\\Lib\\site-packages\\IPython\\core\\events.py:82: UserWarning: Glyph 44053 (\\N{HANGUL SYLLABLE GANG}) missing from font(s) DejaVu Sans.\n",
      "  func(*args, **kwargs)\n",
      "c:\\Users\\playdata2\\Desktop\\python_src\\.venv\\Lib\\site-packages\\IPython\\core\\events.py:82: UserWarning: Glyph 50896 (\\N{HANGUL SYLLABLE WEON}) missing from font(s) DejaVu Sans.\n",
      "  func(*args, **kwargs)\n",
      "c:\\Users\\playdata2\\Desktop\\python_src\\.venv\\Lib\\site-packages\\IPython\\core\\events.py:82: UserWarning: Glyph 52649 (\\N{HANGUL SYLLABLE CUNG}) missing from font(s) DejaVu Sans.\n",
      "  func(*args, **kwargs)\n",
      "c:\\Users\\playdata2\\Desktop\\python_src\\.venv\\Lib\\site-packages\\IPython\\core\\events.py:82: UserWarning: Glyph 52397 (\\N{HANGUL SYLLABLE CEONG}) missing from font(s) DejaVu Sans.\n",
      "  func(*args, **kwargs)\n",
      "c:\\Users\\playdata2\\Desktop\\python_src\\.venv\\Lib\\site-packages\\IPython\\core\\events.py:82: UserWarning: Glyph 48513 (\\N{HANGUL SYLLABLE BUG}) missing from font(s) DejaVu Sans.\n",
      "  func(*args, **kwargs)\n",
      "c:\\Users\\playdata2\\Desktop\\python_src\\.venv\\Lib\\site-packages\\IPython\\core\\events.py:82: UserWarning: Glyph 45224 (\\N{HANGUL SYLLABLE NAM}) missing from font(s) DejaVu Sans.\n",
      "  func(*args, **kwargs)\n",
      "c:\\Users\\playdata2\\Desktop\\python_src\\.venv\\Lib\\site-packages\\IPython\\core\\events.py:82: UserWarning: Glyph 46972 (\\N{HANGUL SYLLABLE RA}) missing from font(s) DejaVu Sans.\n",
      "  func(*args, **kwargs)\n",
      "c:\\Users\\playdata2\\Desktop\\python_src\\.venv\\Lib\\site-packages\\IPython\\core\\events.py:82: UserWarning: Glyph 49345 (\\N{HANGUL SYLLABLE SANG}) missing from font(s) DejaVu Sans.\n",
      "  func(*args, **kwargs)\n",
      "c:\\Users\\playdata2\\Desktop\\python_src\\.venv\\Lib\\site-packages\\IPython\\core\\events.py:82: UserWarning: Glyph 51228 (\\N{HANGUL SYLLABLE JE}) missing from font(s) DejaVu Sans.\n",
      "  func(*args, **kwargs)\n",
      "c:\\Users\\playdata2\\Desktop\\python_src\\.venv\\Lib\\site-packages\\IPython\\core\\events.py:82: UserWarning: Glyph 51452 (\\N{HANGUL SYLLABLE JU}) missing from font(s) DejaVu Sans.\n",
      "  func(*args, **kwargs)\n",
      "c:\\Users\\playdata2\\Desktop\\python_src\\.venv\\Lib\\site-packages\\IPython\\core\\events.py:82: UserWarning: Glyph 53945 (\\N{HANGUL SYLLABLE TEUG}) missing from font(s) DejaVu Sans.\n",
      "  func(*args, **kwargs)\n",
      "c:\\Users\\playdata2\\Desktop\\python_src\\.venv\\Lib\\site-packages\\IPython\\core\\events.py:82: UserWarning: Glyph 48324 (\\N{HANGUL SYLLABLE BYEOL}) missing from font(s) DejaVu Sans.\n",
      "  func(*args, **kwargs)\n",
      "c:\\Users\\playdata2\\Desktop\\python_src\\.venv\\Lib\\site-packages\\IPython\\core\\events.py:82: UserWarning: Glyph 51088 (\\N{HANGUL SYLLABLE JA}) missing from font(s) DejaVu Sans.\n",
      "  func(*args, **kwargs)\n",
      "c:\\Users\\playdata2\\Desktop\\python_src\\.venv\\Lib\\site-packages\\IPython\\core\\events.py:82: UserWarning: Glyph 52824 (\\N{HANGUL SYLLABLE CI}) missing from font(s) DejaVu Sans.\n",
      "  func(*args, **kwargs)\n",
      "c:\\Users\\playdata2\\Desktop\\python_src\\.venv\\Lib\\site-packages\\IPython\\core\\pylabtools.py:170: UserWarning: Glyph 51204 (\\N{HANGUL SYLLABLE JEON}) missing from font(s) DejaVu Sans.\n",
      "  fig.canvas.print_figure(bytes_io, **kw)\n",
      "c:\\Users\\playdata2\\Desktop\\python_src\\.venv\\Lib\\site-packages\\IPython\\core\\pylabtools.py:170: UserWarning: Glyph 52636 (\\N{HANGUL SYLLABLE CUL}) missing from font(s) DejaVu Sans.\n",
      "  fig.canvas.print_figure(bytes_io, **kw)\n",
      "c:\\Users\\playdata2\\Desktop\\python_src\\.venv\\Lib\\site-packages\\IPython\\core\\pylabtools.py:170: UserWarning: Glyph 51648 (\\N{HANGUL SYLLABLE JI}) missing from font(s) DejaVu Sans.\n",
      "  fig.canvas.print_figure(bytes_io, **kw)\n",
      "c:\\Users\\playdata2\\Desktop\\python_src\\.venv\\Lib\\site-packages\\IPython\\core\\pylabtools.py:170: UserWarning: Glyph 44397 (\\N{HANGUL SYLLABLE GUG}) missing from font(s) DejaVu Sans.\n",
      "  fig.canvas.print_figure(bytes_io, **kw)\n",
      "c:\\Users\\playdata2\\Desktop\\python_src\\.venv\\Lib\\site-packages\\IPython\\core\\pylabtools.py:170: UserWarning: Glyph 48512 (\\N{HANGUL SYLLABLE BU}) missing from font(s) DejaVu Sans.\n",
      "  fig.canvas.print_figure(bytes_io, **kw)\n",
      "c:\\Users\\playdata2\\Desktop\\python_src\\.venv\\Lib\\site-packages\\IPython\\core\\pylabtools.py:170: UserWarning: Glyph 49328 (\\N{HANGUL SYLLABLE SAN}) missing from font(s) DejaVu Sans.\n",
      "  fig.canvas.print_figure(bytes_io, **kw)\n",
      "c:\\Users\\playdata2\\Desktop\\python_src\\.venv\\Lib\\site-packages\\IPython\\core\\pylabtools.py:170: UserWarning: Glyph 44305 (\\N{HANGUL SYLLABLE GWANG}) missing from font(s) DejaVu Sans.\n",
      "  fig.canvas.print_figure(bytes_io, **kw)\n",
      "c:\\Users\\playdata2\\Desktop\\python_src\\.venv\\Lib\\site-packages\\IPython\\core\\pylabtools.py:170: UserWarning: Glyph 50669 (\\N{HANGUL SYLLABLE YEOG}) missing from font(s) DejaVu Sans.\n",
      "  fig.canvas.print_figure(bytes_io, **kw)\n",
      "c:\\Users\\playdata2\\Desktop\\python_src\\.venv\\Lib\\site-packages\\IPython\\core\\pylabtools.py:170: UserWarning: Glyph 49884 (\\N{HANGUL SYLLABLE SI}) missing from font(s) DejaVu Sans.\n",
      "  fig.canvas.print_figure(bytes_io, **kw)\n",
      "c:\\Users\\playdata2\\Desktop\\python_src\\.venv\\Lib\\site-packages\\IPython\\core\\pylabtools.py:170: UserWarning: Glyph 44221 (\\N{HANGUL SYLLABLE GYEONG}) missing from font(s) DejaVu Sans.\n",
      "  fig.canvas.print_figure(bytes_io, **kw)\n",
      "c:\\Users\\playdata2\\Desktop\\python_src\\.venv\\Lib\\site-packages\\IPython\\core\\pylabtools.py:170: UserWarning: Glyph 44592 (\\N{HANGUL SYLLABLE GI}) missing from font(s) DejaVu Sans.\n",
      "  fig.canvas.print_figure(bytes_io, **kw)\n",
      "c:\\Users\\playdata2\\Desktop\\python_src\\.venv\\Lib\\site-packages\\IPython\\core\\pylabtools.py:170: UserWarning: Glyph 46020 (\\N{HANGUL SYLLABLE DO}) missing from font(s) DejaVu Sans.\n",
      "  fig.canvas.print_figure(bytes_io, **kw)\n",
      "c:\\Users\\playdata2\\Desktop\\python_src\\.venv\\Lib\\site-packages\\IPython\\core\\pylabtools.py:170: UserWarning: Glyph 44053 (\\N{HANGUL SYLLABLE GANG}) missing from font(s) DejaVu Sans.\n",
      "  fig.canvas.print_figure(bytes_io, **kw)\n",
      "c:\\Users\\playdata2\\Desktop\\python_src\\.venv\\Lib\\site-packages\\IPython\\core\\pylabtools.py:170: UserWarning: Glyph 50896 (\\N{HANGUL SYLLABLE WEON}) missing from font(s) DejaVu Sans.\n",
      "  fig.canvas.print_figure(bytes_io, **kw)\n",
      "c:\\Users\\playdata2\\Desktop\\python_src\\.venv\\Lib\\site-packages\\IPython\\core\\pylabtools.py:170: UserWarning: Glyph 52649 (\\N{HANGUL SYLLABLE CUNG}) missing from font(s) DejaVu Sans.\n",
      "  fig.canvas.print_figure(bytes_io, **kw)\n",
      "c:\\Users\\playdata2\\Desktop\\python_src\\.venv\\Lib\\site-packages\\IPython\\core\\pylabtools.py:170: UserWarning: Glyph 52397 (\\N{HANGUL SYLLABLE CEONG}) missing from font(s) DejaVu Sans.\n",
      "  fig.canvas.print_figure(bytes_io, **kw)\n",
      "c:\\Users\\playdata2\\Desktop\\python_src\\.venv\\Lib\\site-packages\\IPython\\core\\pylabtools.py:170: UserWarning: Glyph 48513 (\\N{HANGUL SYLLABLE BUG}) missing from font(s) DejaVu Sans.\n",
      "  fig.canvas.print_figure(bytes_io, **kw)\n",
      "c:\\Users\\playdata2\\Desktop\\python_src\\.venv\\Lib\\site-packages\\IPython\\core\\pylabtools.py:170: UserWarning: Glyph 45224 (\\N{HANGUL SYLLABLE NAM}) missing from font(s) DejaVu Sans.\n",
      "  fig.canvas.print_figure(bytes_io, **kw)\n",
      "c:\\Users\\playdata2\\Desktop\\python_src\\.venv\\Lib\\site-packages\\IPython\\core\\pylabtools.py:170: UserWarning: Glyph 46972 (\\N{HANGUL SYLLABLE RA}) missing from font(s) DejaVu Sans.\n",
      "  fig.canvas.print_figure(bytes_io, **kw)\n",
      "c:\\Users\\playdata2\\Desktop\\python_src\\.venv\\Lib\\site-packages\\IPython\\core\\pylabtools.py:170: UserWarning: Glyph 49345 (\\N{HANGUL SYLLABLE SANG}) missing from font(s) DejaVu Sans.\n",
      "  fig.canvas.print_figure(bytes_io, **kw)\n",
      "c:\\Users\\playdata2\\Desktop\\python_src\\.venv\\Lib\\site-packages\\IPython\\core\\pylabtools.py:170: UserWarning: Glyph 51228 (\\N{HANGUL SYLLABLE JE}) missing from font(s) DejaVu Sans.\n",
      "  fig.canvas.print_figure(bytes_io, **kw)\n",
      "c:\\Users\\playdata2\\Desktop\\python_src\\.venv\\Lib\\site-packages\\IPython\\core\\pylabtools.py:170: UserWarning: Glyph 51452 (\\N{HANGUL SYLLABLE JU}) missing from font(s) DejaVu Sans.\n",
      "  fig.canvas.print_figure(bytes_io, **kw)\n",
      "c:\\Users\\playdata2\\Desktop\\python_src\\.venv\\Lib\\site-packages\\IPython\\core\\pylabtools.py:170: UserWarning: Glyph 53945 (\\N{HANGUL SYLLABLE TEUG}) missing from font(s) DejaVu Sans.\n",
      "  fig.canvas.print_figure(bytes_io, **kw)\n",
      "c:\\Users\\playdata2\\Desktop\\python_src\\.venv\\Lib\\site-packages\\IPython\\core\\pylabtools.py:170: UserWarning: Glyph 48324 (\\N{HANGUL SYLLABLE BYEOL}) missing from font(s) DejaVu Sans.\n",
      "  fig.canvas.print_figure(bytes_io, **kw)\n",
      "c:\\Users\\playdata2\\Desktop\\python_src\\.venv\\Lib\\site-packages\\IPython\\core\\pylabtools.py:170: UserWarning: Glyph 51088 (\\N{HANGUL SYLLABLE JA}) missing from font(s) DejaVu Sans.\n",
      "  fig.canvas.print_figure(bytes_io, **kw)\n",
      "c:\\Users\\playdata2\\Desktop\\python_src\\.venv\\Lib\\site-packages\\IPython\\core\\pylabtools.py:170: UserWarning: Glyph 52824 (\\N{HANGUL SYLLABLE CI}) missing from font(s) DejaVu Sans.\n",
      "  fig.canvas.print_figure(bytes_io, **kw)\n"
     ]
    },
    {
     "data": {
      "image/png": "[encoded data removed]",
      "text/plain": [
       "<Figure size 640x480 with 1 Axes>"
      ]
     },
     "metadata": {},
     "output_type": "display_data"
    }
   ],
   "source": [
    "# 서울에서 다른 지역으로 이동한 데이터만 추출하여 정리\n",
    "mask = (df['전출지별'] != '서울특별시') & (df['전입지별'] == '서울특별시') \n",
    "df_seoul = df[mask]\n",
    "df_seoul = df_seoul.drop(columns=['전입지별'])\n",
    "df_seoul = df_seoul.rename(columns={'전출지별': '전출지'})\n",
    "df_seoul = df_seoul.set_index('전출지')\n",
    "df_seoul.T.plot()"
   ]
  },
  {
   "cell_type": "code",
   "execution_count": 7,
   "id": "e46adce4-31d8-4d09-b4f5-57c49fde9526",
   "metadata": {
    "tags": []
   },
   "outputs": [
    {
     "data": {
      "text/plain": [
       "1970     95388\n",
       "1971     95423\n",
       "1972     90470\n",
       "1973    107177\n",
       "1974    107518\n",
       "Name: 경기도, dtype: object"
      ]
     },
     "execution_count": 7,
     "metadata": {},
     "output_type": "execute_result"
    }
   ],
   "source": [
    "# 서울에서 경기도로 이동한 인구 데이터 값만 선택 \n",
    "sr_one = df_seoul.loc['경기도']\n",
    "sr_one.head()"
   ]
  },
  {
   "cell_type": "code",
   "execution_count": 8,
   "id": "8d1135c2-d5ee-4414-8206-3b6bcae94cec",
   "metadata": {
    "tags": []
   },
   "outputs": [
    {
     "data": {
      "text/plain": [
       "[<matplotlib.lines.Line2D at 0x1faa0361450>]"
      ]
     },
     "execution_count": 8,
     "metadata": {},
     "output_type": "execute_result"
    },
    {
     "data": {
      "image/png": "[encoded data removed]",
      "text/plain": [
       "<Figure size 640x480 with 1 Axes>"
      ]
     },
     "metadata": {},
     "output_type": "display_data"
    }
   ],
   "source": [
    "# x, y축 데이터를 plot 함수에 입력\n",
    "plt.plot(sr_one.index, sr_one.values)"
   ]
  },
  {
   "cell_type": "code",
   "execution_count": 9,
   "id": "06665d82-b336-42b0-8ba1-468d76176a5b",
   "metadata": {
    "tags": []
   },
   "outputs": [
    {
     "data": {
      "image/png": "[encoded data removed]",
      "text/plain": [
       "<Figure size 640x480 with 1 Axes>"
      ]
     },
     "metadata": {},
     "output_type": "display_data"
    }
   ],
   "source": [
    "# 판다스 객체를 plot 함수에 입력\n",
    "plt.plot(sr_one)\n",
    "plt.show()"
   ]
  },
  {
   "cell_type": "markdown",
   "id": "f21743e9",
   "metadata": {},
   "source": [
    "# 응용"
   ]
  },
  {
   "cell_type": "code",
   "execution_count": 10,
   "id": "8dc70a5a",
   "metadata": {},
   "outputs": [
    {
     "name": "stdout",
     "output_type": "stream",
     "text": [
      "Requirement already satisfied: pandas in c:\\users\\playdata2\\desktop\\python_src\\.venv\\lib\\site-packages (2.3.2)\n",
      "Requirement already satisfied: gdown in c:\\users\\playdata2\\desktop\\python_src\\.venv\\lib\\site-packages (5.2.0)\n",
      "Requirement already satisfied: numpy>=1.26.0 in c:\\users\\playdata2\\desktop\\python_src\\.venv\\lib\\site-packages (from pandas) (2.3.3)\n",
      "Requirement already satisfied: python-dateutil>=2.8.2 in c:\\users\\playdata2\\desktop\\python_src\\.venv\\lib\\site-packages (from pandas) (2.9.0.post0)\n",
      "Requirement already satisfied: pytz>=2020.1 in c:\\users\\playdata2\\desktop\\python_src\\.venv\\lib\\site-packages (from pandas) (2025.2)\n",
      "Requirement already satisfied: tzdata>=2022.7 in c:\\users\\playdata2\\desktop\\python_src\\.venv\\lib\\site-packages (from pandas) (2025.2)\n",
      "Requirement already satisfied: beautifulsoup4 in c:\\users\\playdata2\\desktop\\python_src\\.venv\\lib\\site-packages (from gdown) (4.13.5)\n",
      "Requirement already satisfied: filelock in c:\\users\\playdata2\\desktop\\python_src\\.venv\\lib\\site-packages (from gdown) (3.19.1)\n",
      "Requirement already satisfied: requests[socks] in c:\\users\\playdata2\\desktop\\python_src\\.venv\\lib\\site-packages (from gdown) (2.32.5)\n",
      "Requirement already satisfied: tqdm in c:\\users\\playdata2\\desktop\\python_src\\.venv\\lib\\site-packages (from gdown) (4.67.1)\n",
      "Requirement already satisfied: six>=1.5 in c:\\users\\playdata2\\desktop\\python_src\\.venv\\lib\\site-packages (from python-dateutil>=2.8.2->pandas) (1.17.0)\n",
      "Requirement already satisfied: soupsieve>1.2 in c:\\users\\playdata2\\desktop\\python_src\\.venv\\lib\\site-packages (from beautifulsoup4->gdown) (2.8)\n",
      "Requirement already satisfied: typing-extensions>=4.0.0 in c:\\users\\playdata2\\desktop\\python_src\\.venv\\lib\\site-packages (from beautifulsoup4->gdown) (4.14.1)\n",
      "Requirement already satisfied: charset_normalizer<4,>=2 in c:\\users\\playdata2\\desktop\\python_src\\.venv\\lib\\site-packages (from requests[socks]->gdown) (3.4.3)\n",
      "Requirement already satisfied: idna<4,>=2.5 in c:\\users\\playdata2\\desktop\\python_src\\.venv\\lib\\site-packages (from requests[socks]->gdown) (3.10)\n",
      "Requirement already satisfied: urllib3<3,>=1.21.1 in c:\\users\\playdata2\\desktop\\python_src\\.venv\\lib\\site-packages (from requests[socks]->gdown) (2.5.0)\n",
      "Requirement already satisfied: certifi>=2017.4.17 in c:\\users\\playdata2\\desktop\\python_src\\.venv\\lib\\site-packages (from requests[socks]->gdown) (2025.8.3)\n",
      "Requirement already satisfied: PySocks!=1.5.7,>=1.5.6 in c:\\users\\playdata2\\desktop\\python_src\\.venv\\lib\\site-packages (from requests[socks]->gdown) (1.7.1)\n",
      "Requirement already satisfied: colorama in c:\\users\\playdata2\\desktop\\python_src\\.venv\\lib\\site-packages (from tqdm->gdown) (0.4.6)\n",
      "Note: you may need to restart the kernel to use updated packages.\n"
     ]
    }
   ],
   "source": [
    "%pip install pandas gdown"
   ]
  },
  {
   "cell_type": "code",
   "execution_count": 11,
   "id": "41e5e3e3",
   "metadata": {},
   "outputs": [
    {
     "name": "stderr",
     "output_type": "stream",
     "text": [
      "Downloading...\n",
      "From (original): https://drive.google.com/uc?id=1oxUlhFbbJqUEdAZnynTJUav5mCkM9sb7\n",
      "From (redirected): https://drive.google.com/uc?id=1oxUlhFbbJqUEdAZnynTJUav5mCkM9sb7&confirm=t&uuid=cff35807-4883-4287-ad90-e61136d1a6c7\n",
      "To: c:\\Users\\playdata2\\Desktop\\python_src\\pandas-data-analysis\\part4\\credit.csv\n",
      "100%|██████████| 150M/150M [00:11<00:00, 12.6MB/s] \n"
     ]
    },
    {
     "data": {
      "text/html": [
       "<div>\n",
       "<style scoped>\n",
       "    .dataframe tbody tr th:only-of-type {\n",
       "        vertical-align: middle;\n",
       "    }\n",
       "\n",
       "    .dataframe tbody tr th {\n",
       "        vertical-align: top;\n",
       "    }\n",
       "\n",
       "    .dataframe thead th {\n",
       "        text-align: right;\n",
       "    }\n",
       "</style>\n",
       "<table border=\"1\" class=\"dataframe\">\n",
       "  <thead>\n",
       "    <tr style=\"text-align: right;\">\n",
       "      <th></th>\n",
       "      <th>store_id</th>\n",
       "      <th>date</th>\n",
       "      <th>time</th>\n",
       "      <th>card_id</th>\n",
       "      <th>amount</th>\n",
       "      <th>installments</th>\n",
       "      <th>days_of_week</th>\n",
       "      <th>holyday</th>\n",
       "    </tr>\n",
       "  </thead>\n",
       "  <tbody>\n",
       "    <tr>\n",
       "      <th>0</th>\n",
       "      <td>0</td>\n",
       "      <td>2016-12-14</td>\n",
       "      <td>18:05:31</td>\n",
       "      <td>d297bba73f</td>\n",
       "      <td>5</td>\n",
       "      <td>NaN</td>\n",
       "      <td>2</td>\n",
       "      <td>0</td>\n",
       "    </tr>\n",
       "    <tr>\n",
       "      <th>1</th>\n",
       "      <td>0</td>\n",
       "      <td>2016-12-14</td>\n",
       "      <td>18:05:54</td>\n",
       "      <td>d297bba73f</td>\n",
       "      <td>-5</td>\n",
       "      <td>NaN</td>\n",
       "      <td>2</td>\n",
       "      <td>0</td>\n",
       "    </tr>\n",
       "    <tr>\n",
       "      <th>2</th>\n",
       "      <td>0</td>\n",
       "      <td>2016-12-19</td>\n",
       "      <td>12:42:31</td>\n",
       "      <td>0880849c05</td>\n",
       "      <td>144</td>\n",
       "      <td>NaN</td>\n",
       "      <td>0</td>\n",
       "      <td>0</td>\n",
       "    </tr>\n",
       "    <tr>\n",
       "      <th>3</th>\n",
       "      <td>0</td>\n",
       "      <td>2016-12-19</td>\n",
       "      <td>12:48:08</td>\n",
       "      <td>8b4f9e0e95</td>\n",
       "      <td>66</td>\n",
       "      <td>NaN</td>\n",
       "      <td>0</td>\n",
       "      <td>0</td>\n",
       "    </tr>\n",
       "    <tr>\n",
       "      <th>4</th>\n",
       "      <td>0</td>\n",
       "      <td>2016-12-19</td>\n",
       "      <td>13:31:08</td>\n",
       "      <td>7ad237eed0</td>\n",
       "      <td>24</td>\n",
       "      <td>NaN</td>\n",
       "      <td>0</td>\n",
       "      <td>0</td>\n",
       "    </tr>\n",
       "  </tbody>\n",
       "</table>\n",
       "</div>"
      ],
      "text/plain": [
       "   store_id        date      time     card_id  amount  installments  \\\n",
       "0         0  2016-12-14  18:05:31  d297bba73f       5           NaN   \n",
       "1         0  2016-12-14  18:05:54  d297bba73f      -5           NaN   \n",
       "2         0  2016-12-19  12:42:31  0880849c05     144           NaN   \n",
       "3         0  2016-12-19  12:48:08  8b4f9e0e95      66           NaN   \n",
       "4         0  2016-12-19  13:31:08  7ad237eed0      24           NaN   \n",
       "\n",
       "   days_of_week  holyday  \n",
       "0             2        0  \n",
       "1             2        0  \n",
       "2             0        0  \n",
       "3             0        0  \n",
       "4             0        0  "
      ]
     },
     "execution_count": 11,
     "metadata": {},
     "output_type": "execute_result"
    }
   ],
   "source": [
    "import gdown\n",
    "file_id = '1oxUlhFbbJqUEdAZnynTJUav5mCkM9sb7'\n",
    "url = f'https://drive.google.com/uc?id={file_id}'\n",
    "output = 'credit.csv'\n",
    "\n",
    "gdown.download(url, output, quiet=False)\n",
    "df = pd.read_csv(output)\n",
    "df.head()\n",
    "\n",
    "# instasllments 할부개월수\n",
    "# days_ok_week 월요일 0, 일요일 6\n",
    "# holiday 1이면 공휴일 0이면 공휴일이 아님"
   ]
  },
  {
   "cell_type": "code",
   "execution_count": 12,
   "id": "cee8091b",
   "metadata": {},
   "outputs": [
    {
     "data": {
      "text/html": [
       "<div>\n",
       "<style scoped>\n",
       "    .dataframe tbody tr th:only-of-type {\n",
       "        vertical-align: middle;\n",
       "    }\n",
       "\n",
       "    .dataframe tbody tr th {\n",
       "        vertical-align: top;\n",
       "    }\n",
       "\n",
       "    .dataframe thead th {\n",
       "        text-align: right;\n",
       "    }\n",
       "</style>\n",
       "<table border=\"1\" class=\"dataframe\">\n",
       "  <thead>\n",
       "    <tr style=\"text-align: right;\">\n",
       "      <th></th>\n",
       "      <th>store_id</th>\n",
       "      <th>date</th>\n",
       "      <th>time</th>\n",
       "      <th>card_id</th>\n",
       "      <th>amount</th>\n",
       "      <th>installments</th>\n",
       "      <th>days_of_week</th>\n",
       "      <th>holyday</th>\n",
       "      <th>datetime</th>\n",
       "      <th>year</th>\n",
       "      <th>month</th>\n",
       "    </tr>\n",
       "  </thead>\n",
       "  <tbody>\n",
       "    <tr>\n",
       "      <th>0</th>\n",
       "      <td>0</td>\n",
       "      <td>2016-12-14</td>\n",
       "      <td>18:05:31</td>\n",
       "      <td>d297bba73f</td>\n",
       "      <td>5</td>\n",
       "      <td>NaN</td>\n",
       "      <td>2</td>\n",
       "      <td>0</td>\n",
       "      <td>2016-12-14</td>\n",
       "      <td>2016</td>\n",
       "      <td>12</td>\n",
       "    </tr>\n",
       "    <tr>\n",
       "      <th>1</th>\n",
       "      <td>0</td>\n",
       "      <td>2016-12-14</td>\n",
       "      <td>18:05:54</td>\n",
       "      <td>d297bba73f</td>\n",
       "      <td>-5</td>\n",
       "      <td>NaN</td>\n",
       "      <td>2</td>\n",
       "      <td>0</td>\n",
       "      <td>2016-12-14</td>\n",
       "      <td>2016</td>\n",
       "      <td>12</td>\n",
       "    </tr>\n",
       "    <tr>\n",
       "      <th>2</th>\n",
       "      <td>0</td>\n",
       "      <td>2016-12-19</td>\n",
       "      <td>12:42:31</td>\n",
       "      <td>0880849c05</td>\n",
       "      <td>144</td>\n",
       "      <td>NaN</td>\n",
       "      <td>0</td>\n",
       "      <td>0</td>\n",
       "      <td>2016-12-19</td>\n",
       "      <td>2016</td>\n",
       "      <td>12</td>\n",
       "    </tr>\n",
       "    <tr>\n",
       "      <th>3</th>\n",
       "      <td>0</td>\n",
       "      <td>2016-12-19</td>\n",
       "      <td>12:48:08</td>\n",
       "      <td>8b4f9e0e95</td>\n",
       "      <td>66</td>\n",
       "      <td>NaN</td>\n",
       "      <td>0</td>\n",
       "      <td>0</td>\n",
       "      <td>2016-12-19</td>\n",
       "      <td>2016</td>\n",
       "      <td>12</td>\n",
       "    </tr>\n",
       "    <tr>\n",
       "      <th>4</th>\n",
       "      <td>0</td>\n",
       "      <td>2016-12-19</td>\n",
       "      <td>13:31:08</td>\n",
       "      <td>7ad237eed0</td>\n",
       "      <td>24</td>\n",
       "      <td>NaN</td>\n",
       "      <td>0</td>\n",
       "      <td>0</td>\n",
       "      <td>2016-12-19</td>\n",
       "      <td>2016</td>\n",
       "      <td>12</td>\n",
       "    </tr>\n",
       "  </tbody>\n",
       "</table>\n",
       "</div>"
      ],
      "text/plain": [
       "   store_id        date      time     card_id  amount  installments  \\\n",
       "0         0  2016-12-14  18:05:31  d297bba73f       5           NaN   \n",
       "1         0  2016-12-14  18:05:54  d297bba73f      -5           NaN   \n",
       "2         0  2016-12-19  12:42:31  0880849c05     144           NaN   \n",
       "3         0  2016-12-19  12:48:08  8b4f9e0e95      66           NaN   \n",
       "4         0  2016-12-19  13:31:08  7ad237eed0      24           NaN   \n",
       "\n",
       "   days_of_week  holyday   datetime  year  month  \n",
       "0             2        0 2016-12-14  2016     12  \n",
       "1             2        0 2016-12-14  2016     12  \n",
       "2             0        0 2016-12-19  2016     12  \n",
       "3             0        0 2016-12-19  2016     12  \n",
       "4             0        0 2016-12-19  2016     12  "
      ]
     },
     "execution_count": 12,
     "metadata": {},
     "output_type": "execute_result"
    }
   ],
   "source": [
    "# datetime으로 형식을 변경해서 년월일을 분리할 수 있다\n",
    "df['datetime'] = pd.to_datetime(df['date'])\n",
    "df['year'] = df['datetime'].dt.year\n",
    "df['month'] = df['datetime'].dt.month\n",
    "df.head()"
   ]
  },
  {
   "cell_type": "code",
   "execution_count": 13,
   "id": "c988dccc",
   "metadata": {},
   "outputs": [
    {
     "name": "stdout",
     "output_type": "stream",
     "text": [
      "year\n",
      "2016     69385560\n",
      "2017    238703895\n",
      "2018    182751998\n",
      "Name: amount, dtype: int64\n"
     ]
    },
    {
     "data": {
      "text/plain": [
       "<Axes: xlabel='year'>"
      ]
     },
     "execution_count": 13,
     "metadata": {},
     "output_type": "execute_result"
    },
    {
     "data": {
      "image/png": "[encoded data removed]",
      "text/plain": [
       "<Figure size 640x480 with 1 Axes>"
      ]
     },
     "metadata": {},
     "output_type": "display_data"
    }
   ],
   "source": [
    "# 년도별 신용카드 매출액을 구해서 출력\n",
    "# 시각화 plot x축의 시간정보는 오름차순으로 정렬되었는지 확인\n",
    "temp = df.groupby('year')['amount'].sum()\n",
    "print(temp)\n",
    "temp.plot(kind='bar')"
   ]
  },
  {
   "cell_type": "code",
   "execution_count": 14,
   "id": "a61de08a",
   "metadata": {},
   "outputs": [
    {
     "data": {
      "text/plain": [
       "<Axes: xlabel='year'>"
      ]
     },
     "execution_count": 14,
     "metadata": {},
     "output_type": "execute_result"
    },
    {
     "data": {
      "image/png": "[encoded data removed]",
      "text/plain": [
       "<Figure size 640x480 with 1 Axes>"
      ]
     },
     "metadata": {},
     "output_type": "display_data"
    }
   ],
   "source": [
    "temp.index = temp.index.astype('str')\n",
    "temp.plot()"
   ]
  },
  {
   "cell_type": "code",
   "execution_count": 15,
   "id": "4485af26",
   "metadata": {},
   "outputs": [
    {
     "data": {
      "text/plain": [
       "<Axes: xlabel='month'>"
      ]
     },
     "execution_count": 15,
     "metadata": {},
     "output_type": "execute_result"
    },
    {
     "data": {
      "image/png": "[encoded data removed]",
      "text/plain": [
       "<Figure size 640x480 with 1 Axes>"
      ]
     },
     "metadata": {},
     "output_type": "display_data"
    }
   ],
   "source": [
    "# 2017 월별 신용카드 \n",
    "test = df[df['year'] == 2017]\n",
    "test = test.groupby('month')['amount'].sum()\n",
    "test.plot()"
   ]
  }
 ],
 "metadata": {
  "kernelspec": {
   "display_name": ".venv",
   "language": "python",
   "name": "python3"
  },
  "language_info": {
   "codemirror_mode": {
    "name": "ipython",
    "version": 3
   },
   "file_extension": ".py",
   "mimetype": "text/x-python",
   "name": "python",
   "nbconvert_exporter": "python",
   "pygments_lexer": "ipython3",
   "version": "3.13.7"
  }
 },
 "nbformat": 4,
 "nbformat_minor": 5
}
